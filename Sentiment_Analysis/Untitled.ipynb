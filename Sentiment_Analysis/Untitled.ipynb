{
 "cells": [
  {
   "cell_type": "code",
   "execution_count": null,
   "id": "e38e690f-130d-48af-aed4-65c1be875d57",
   "metadata": {},
   "outputs": [],
   "source": [
    "# import dependencies\n",
    "\n",
    "import os\n",
    "import csv\n",
    "import pandas as pd\n",
    "from dotenv import load_dotenv\n",
    "from nltk.sentiment.vader import SentimentIntensityAnalyzer\n",
    "analyzer = SentimentIntensityAnalyzer()\n",
    "\n",
    "%matplotlib inline"
   ]
  },
  {
   "cell_type": "code",
   "execution_count": null,
   "id": "ac0a7eb0-bf86-49b5-9112-d0a664d37d57",
   "metadata": {},
   "outputs": [],
   "source": [
    "# Read in 2016 CSV file\n",
    "posts_2016_df = pd.read_csv(\"../Source_Data/posts_2016.csv\",)\n",
    "\n",
    "# Display sample data\n",
    "posts_2016_df.head(5)"
   ]
  },
  {
   "cell_type": "code",
   "execution_count": null,
   "id": "f8b51902-9e9b-4b35-b489-53725a241a07",
   "metadata": {},
   "outputs": [],
   "source": [
    "# View columns in dataframe\n",
    "posts_2016_df.info()"
   ]
  },
  {
   "cell_type": "code",
   "execution_count": null,
   "id": "a8e0d499-299a-481f-b4fd-00e2c14f4f2d",
   "metadata": {},
   "outputs": [],
   "source": [
    "# Restrict dataframe to columns of interest\n",
    "\n",
    "# Define the columns to keep\n",
    "columns_to_keep = ['id', 'handle', 'text', 'time']\n",
    "\n",
    "# Drop all columns except the specified ones\n",
    "posts_2016_df = posts_2016_df[columns_to_keep]\n",
    "\n",
    "# View dataframe\n",
    "posts_2016_df.head()"
   ]
  },
  {
   "cell_type": "code",
   "execution_count": null,
   "id": "a10b9b67-13a3-41df-bef2-918073982b19",
   "metadata": {},
   "outputs": [],
   "source": [
    "sentiments = []\n",
    "\n",
    "for comment in posts_2016_df['text']:\n",
    "    try:\n",
    "        # text = comment['text']\n",
    "        # results = analyzer.polarity_scores(text)\n",
    "        results = analyzer.polarity_scores(comment)\n",
    "        compound = results['compound']\n",
    "        pos = results['pos']\n",
    "        neu = results['neu']\n",
    "        neg = results['neg']\n",
    "        \n",
    "        sentiments.append({\n",
    "            'Compound': compound,\n",
    "            'Positive': pos,\n",
    "            'Negative': neg,\n",
    "            'Neutral': neu,\n",
    "            # 'text': text,\n",
    "            'text': comment,\n",
    "        })\n",
    "    # except AttributeError:\n",
    "    #     pass\n",
    "\n",
    "    except Exception as e:\n",
    "        print(f\"Error processing comment: {e}\")\n",
    "        continue\n",
    "    \n",
    "sm16 = pd.DataFrame(sentiments)\n",
    "sm16.head()"
   ]
  },
  {
   "cell_type": "code",
   "execution_count": null,
   "id": "09037b29-d964-4b9f-97bf-ad58ada01775",
   "metadata": {},
   "outputs": [],
   "source": [
    "#summary statistics sm16\n",
    "sm16.describe()"
   ]
  },
  {
   "cell_type": "code",
   "execution_count": null,
   "id": "6a40f080-a66c-424c-a68c-a5ab8e7caef5",
   "metadata": {},
   "outputs": [],
   "source": [
    "# Complete the dataframe\n",
    "\n",
    "# Add the 'year' column with the value 2016 for all rows\n",
    "sm16['year'] = 2016\n",
    "\n",
    "# Add the 'outcome' column with the value 'Republican' for all rows\n",
    "sm16['outcome'] = 'Republican'\n",
    "\n",
    "sm16.head()"
   ]
  },
  {
   "cell_type": "code",
   "execution_count": null,
   "id": "6082d05c-b9b6-4580-9039-11fde9c75afa",
   "metadata": {},
   "outputs": [],
   "source": [
    "# Define the file path\n",
    "file_path = \"../Source_data/posts_2020.csv\"\n",
    "\n",
    "# Initialize an empty DataFrame to hold the filtered data\n",
    "posts_2020_df = pd.DataFrame()\n",
    "\n",
    "# Define the acceptable values for the 'country' column\n",
    "acceptable_countries = [\"United States\", \"United States of America\"]\n",
    "\n",
    "# Process the file in chunks to handle large files\n",
    "chunk_size = 10**6  # Adjust the chunk size based on your system's memory capacity\n",
    "for chunk in pd.read_csv(\n",
    "    file_path,\n",
    "    engine='python',                  # Use Python engine to handle more complex cases\n",
    "    on_bad_lines='skip',              # Skip problematic lines\n",
    "    delimiter=',',                    # Ensure correct delimiter\n",
    "    chunksize=chunk_size              # Read the file in chunks\n",
    "):\n",
    "    # Filter rows based on the 'country' column\n",
    "    filtered_chunk = chunk[chunk['country'].isin(acceptable_countries)]\n",
    "    # Append the filtered chunk to the main DataFrame\n",
    "    posts_2020_df = pd.concat([posts_2020_df, filtered_chunk], ignore_index=True)\n",
    "\n",
    "# Verify the result\n",
    "posts_2020_df.head()"
   ]
  },
  {
   "cell_type": "code",
   "execution_count": null,
   "id": "8564906d-bd32-4ad1-9033-eaabd56de1a9",
   "metadata": {},
   "outputs": [],
   "source": [
    "# Restrict dataframe to columns of interest\n",
    "\n",
    "# Rename columns\n",
    "posts_2020_df.rename(columns={\n",
    "    'user_screen_name': 'handle',\n",
    "    'tweet': 'text',\n",
    "    'created_at': 'time',\n",
    "    'tweet_id': 'id'\n",
    "}, inplace=True)\n",
    "\n",
    "# Select only the required columns\n",
    "posts_2020_df = posts_2020_df[['id', 'handle', 'text', 'time']]\n",
    "\n",
    "# Verify the result\n",
    "posts_2020_df.head()"
   ]
  },
  {
   "cell_type": "code",
   "execution_count": null,
   "id": "01cc9df7-da98-410a-811e-04b262f604c4",
   "metadata": {},
   "outputs": [],
   "source": [
    "sentiments2 = []\n",
    "\n",
    "for comment in posts_2020_df['text']:\n",
    "    try:\n",
    "        # Directly use the comment since it's already a string\n",
    "        text = comment\n",
    "        results = analyzer.polarity_scores(text)\n",
    "        compound = results['compound']\n",
    "        pos = results['pos']\n",
    "        neu = results['neu']\n",
    "        neg = results['neg']\n",
    "        \n",
    "        sentiments2.append({\n",
    "            'Compound': compound,\n",
    "            'Positive': pos,\n",
    "            'Negative': neg,\n",
    "            'Neutral': neu,\n",
    "            'text': text,\n",
    "        })\n",
    "    except AttributeError:\n",
    "        pass\n",
    "    \n",
    "sm20 = pd.DataFrame(sentiments2)\n",
    "sm20.head()"
   ]
  },
  {
   "cell_type": "code",
   "execution_count": null,
   "id": "3cb2066b-e021-4cd3-9c99-f0102ea1de0f",
   "metadata": {},
   "outputs": [],
   "source": [
    "#summary statistics sm20\n",
    "sm20.describe()"
   ]
  },
  {
   "cell_type": "code",
   "execution_count": null,
   "id": "14df166d-0cc5-40bb-9b34-80285790a243",
   "metadata": {},
   "outputs": [],
   "source": [
    "# Complete the dataframe\n",
    "\n",
    "# Add the 'year' column with the value 2020 for all rows\n",
    "sm20['year'] = 2020\n",
    "\n",
    "# Add the 'outcome' column with the value 'Republican' for all rows\n",
    "sm20['outcome'] = 'Democrat'\n",
    "\n",
    "sm20.head()"
   ]
  },
  {
   "cell_type": "code",
   "execution_count": null,
   "id": "e086ef27-bd52-4ffd-b045-1abbf72d381c",
   "metadata": {},
   "outputs": [],
   "source": [
    "# # reading datasets \n",
    "# trump = pd.read_csv(\"hashtag_donaldtrump.csv\", lineterminator='\\n') \n",
    "# print(trump.head(3)) "
   ]
  },
  {
   "cell_type": "code",
   "execution_count": null,
   "id": "4ac27897-720c-4cf2-8a21-b6ba67c2a79c",
   "metadata": {},
   "outputs": [],
   "source": [
    "# # Display all the columns in the DataFrame \n",
    "# print(trump.columns)"
   ]
  },
  {
   "cell_type": "code",
   "execution_count": null,
   "id": "1abc2091-df07-4f9f-a045-eafa73fa73f1",
   "metadata": {},
   "outputs": [],
   "source": [
    "# biden = pd.read_csv(\"hashtag_joebiden.csv\", lineterminator='\\n') \n",
    "# print(biden.head(2)) "
   ]
  },
  {
   "cell_type": "code",
   "execution_count": null,
   "id": "3f584417-3e3b-41bd-ab0c-12785f21290c",
   "metadata": {},
   "outputs": [],
   "source": [
    "# print(trump.shape) \n",
    "# print(biden.shape)"
   ]
  },
  {
   "cell_type": "code",
   "execution_count": null,
   "id": "8c58e48e-1ab3-4dab-b1c9-5631280ba427",
   "metadata": {},
   "outputs": [],
   "source": [
    "# # Getting trump dataset information \n",
    "# trump.info() "
   ]
  },
  {
   "cell_type": "code",
   "execution_count": null,
   "id": "1ef83a50-44e2-49fc-8979-330d8220c0b1",
   "metadata": {},
   "outputs": [],
   "source": [
    "# # Getting biden dataset information \n",
    "# biden.info() "
   ]
  },
  {
   "cell_type": "code",
   "execution_count": null,
   "id": "2e641daf-f03e-42c6-be5f-c8318f8bf29f",
   "metadata": {},
   "outputs": [],
   "source": [
    "# # creating a new column 'candidate' todifferentiate \n",
    "# # between tweets of Trump and Biden upon concatination \n",
    "# trump['candidate'] = 'trump'\n",
    "\n",
    "# # biden dataframe \n",
    "# biden['candidate'] = 'biden'\n",
    "\n",
    "# # combining the dataframes \n",
    "# data = pd.concat([trump, biden]) \n",
    "\n",
    "# # FInal data shape \n",
    "# print('Final Data Shape :', data.shape) \n",
    "\n",
    "# # View the first 2 rows \n",
    "# print(\"\\nFirst 2 rows:\") \n",
    "# print(data.head(3)) "
   ]
  },
  {
   "cell_type": "code",
   "execution_count": null,
   "id": "7623ed7b-d4ac-4382-89af-984c168036a6",
   "metadata": {},
   "outputs": [],
   "source": [
    "# # dropping null values if they exist \n",
    "# data.dropna(inplace=True) "
   ]
  },
  {
   "cell_type": "code",
   "execution_count": null,
   "id": "c5eebadb-58e9-4b3d-a51a-5f174234a3c6",
   "metadata": {},
   "outputs": [],
   "source": [
    "# data['country'].value_counts()"
   ]
  },
  {
   "cell_type": "code",
   "execution_count": null,
   "id": "f67c7725-e86a-429e-bf51-7ebcb1020f99",
   "metadata": {},
   "outputs": [],
   "source": [
    "# data['country'] = data['country'].replace({'United States of America': \"US\", \n",
    "# \t\t\t\t\t\t\t\t\t\t'United States': \"US\"}) "
   ]
  },
  {
   "cell_type": "code",
   "execution_count": null,
   "id": "df68ab20-15ff-486b-975e-f81bd6ac8e77",
   "metadata": {},
   "outputs": [],
   "source": [
    "# # Group the data by 'candidate' and count the \n",
    "# # number of tweets for each candidate \n",
    "# tweets_count = data.groupby('candidate')['tweet'].count().reset_index() \n",
    "\n",
    "# # Interactive bar chart \n",
    "# fig = px.bar(tweets_count, x='candidate', y='tweet', color='candidate', \n",
    "# \t\t\tcolor_discrete_map={'Trump': 'pink', 'Biden': 'blue'}, \n",
    "# \t\t\tlabels={'candidate': 'Candidates', 'tweet': 'Number of Tweets'}, \n",
    "# \t\t\ttitle='Tweets for Candidates') \n",
    "\n",
    "# # Show the chart \n",
    "# fig.show() "
   ]
  },
  {
   "cell_type": "code",
   "execution_count": null,
   "id": "ee562393-449a-48a7-a946-bc9336276838",
   "metadata": {},
   "outputs": [],
   "source": [
    "# # Interactive bar chart \n",
    "# likes_comparison = data.groupby('candidate')['likes'].sum().reset_index() \n",
    "# fig = px.bar(likes_comparison, x='candidate', y='likes', color='candidate', \n",
    "# \t\t\tcolor_discrete_map={'Trump': 'blue', 'Biden': 'green'}, \n",
    "# \t\t\tlabels={'candidate': 'Candidate', 'likes': 'Total Likes'}, \n",
    "# \t\t\ttitle='Comparison of Likes') \n",
    "\n",
    "# # Update the layout with a black theme \n",
    "# fig.update_layout(plot_bgcolor='black', \n",
    "# \t\t\t\tpaper_bgcolor='black', font_color='white') \n",
    "\n",
    "# # Show the chart \n",
    "# fig.show() "
   ]
  },
  {
   "cell_type": "code",
   "execution_count": null,
   "id": "95647019-ef9a-4980-9146-e09f10f5b531",
   "metadata": {},
   "outputs": [],
   "source": [
    "# # Top10 Countrywise tweets Counts \n",
    "# top10countries = data.groupby('country')['tweet'].count( \n",
    "# ).sort_values(ascending=False).reset_index().head(10) \n",
    "# # top10countries \n",
    "\n",
    "# # Interactive bar chart \n",
    "# fig = px.bar(top10countries, x='country', y='tweet', \n",
    "# \t\t\ttemplate='plotly_dark', \n",
    "# \t\t\tcolor_discrete_sequence=px.colors.qualitative.Dark24_r, \n",
    "# \t\t\ttitle='Top10 Countrywise tweets Counts') \n",
    "\n",
    "# # To view the graph \n",
    "# fig.show() "
   ]
  },
  {
   "cell_type": "code",
   "execution_count": null,
   "id": "cbc3e730-b7c1-4e41-a782-d2ea249a9f3a",
   "metadata": {},
   "outputs": [],
   "source": [
    "# # the number of tweets done for each \n",
    "# # candidate by all the countries. \n",
    "# tweet_df = data.groupby(['country', 'candidate'])[ \n",
    "# \t'tweet'].count().reset_index() \n",
    "\n",
    "# # Candidate for top 10 country tweet \n",
    "# tweeters = tweet_df[tweet_df['country'].isin(top10countries.country)] \n",
    "\n",
    "# # Plot for tweet counts for each candidate \n",
    "# # in the top 10 countries \n",
    "# fig = px.bar(tweeters, x='country', y='tweet', color='candidate', \n",
    "# \t\t\tlabels={'country': 'Country', 'tweet': 'Number of Tweets', \n",
    "# \t\t\t\t\t'candidate': 'Candidate'}, \n",
    "# \t\t\ttitle='Tweet Counts for Each Candidate in the Top 10 Countries', \n",
    "# \t\t\ttemplate='plotly_dark', \n",
    "# \t\t\tbarmode='group') \n",
    "\n",
    "# # Show the chart \n",
    "# fig.show() "
   ]
  },
  {
   "cell_type": "code",
   "execution_count": null,
   "id": "10d31a2c-5431-478a-b7b1-b55b23c654d9",
   "metadata": {},
   "outputs": [],
   "source": [
    "# def clean(text): \n",
    "# \t# Remove URLs \n",
    "# \ttext = re.sub(r'https?://\\S+|www\\.\\S+', '', str(text)) \n",
    "\n",
    "# \t# Convert text to lowercase \n",
    "# \ttext = text.lower() \n",
    "\n",
    "# \t# Replace anything other than alphabets a-z with a space \n",
    "# \ttext = re.sub('[^a-z]', ' ', text) \n",
    "\n",
    "# \t# Split the text into single words \n",
    "# \ttext = text.split() \n",
    "\n",
    "# \t# Initialize WordNetLemmatizer \n",
    "# \tlm = WordNetLemmatizer() \n",
    "\n",
    "# \t# Lemmatize words and remove stopwords \n",
    "# \ttext = [lm.lemmatize(word) for word in text if word not in set( \n",
    "# \t\tstopwords.words('english'))] \n",
    "\n",
    "# \t# Join the words back into a sentence \n",
    "# \ttext = ' '.join(word for word in text) \n",
    "\n",
    "# \treturn text "
   ]
  },
  {
   "cell_type": "code",
   "execution_count": null,
   "id": "31b62419-616e-44a4-9fcc-43b8908ad848",
   "metadata": {},
   "outputs": [],
   "source": [
    "# def getpolarity(text): \n",
    "# \treturn TextBlob(text).sentiment.polarity \n",
    "\n",
    "# def getsubjectivity(text): \n",
    "# \treturn TextBlob(text).sentiment.subjectivity \n",
    "\n",
    "# def getAnalysis(score): \n",
    "# \tif score < 0: \n",
    "# \t\treturn 'negative'\n",
    "# \telif score == 0: \n",
    "# \t\treturn 'neutral'\n",
    "# \telse: \n",
    "# \t\treturn 'positive'"
   ]
  },
  {
   "cell_type": "markdown",
   "id": "f191ad3c-dba9-4148-b859-222b477352e4",
   "metadata": {},
   "source": [
    "<!-- ## Donald Trump Sentiment Analysis -->"
   ]
  },
  {
   "cell_type": "code",
   "execution_count": null,
   "id": "ce850e6f-c8be-4774-9f22-92d1e1befc74",
   "metadata": {},
   "outputs": [],
   "source": [
    "# trump_tweets = data[data['candidate'] == 'trump'] \n",
    "\n",
    "# # taking only U.S. country data \n",
    "# trump_tweets = trump_tweets.loc[trump_tweets.country == 'US'] \n",
    "# trump_tweets = trump_tweets[['tweet']] \n",
    "# print(trump_tweets.head()) "
   ]
  },
  {
   "cell_type": "code",
   "execution_count": null,
   "id": "178b4e1c-0cab-422e-ad01-bc6362785800",
   "metadata": {},
   "outputs": [],
   "source": [
    "# trump_tweets['cleantext'] = trump_tweets['tweet'].apply(clean) \n",
    "# print(trump_tweets.head()) "
   ]
  },
  {
   "cell_type": "code",
   "execution_count": null,
   "id": "6dd352f5-4791-4ac6-bb86-3c52f94c3309",
   "metadata": {},
   "outputs": [],
   "source": [
    "# trump_tweets['subjectivity'] = trump_tweets['cleantext'].apply(getsubjectivity) "
   ]
  },
  {
   "cell_type": "code",
   "execution_count": null,
   "id": "63430c90-5051-41a9-ae4b-990616f42563",
   "metadata": {},
   "outputs": [],
   "source": [
    "# trump_tweets['polarity'] = trump_tweets['cleantext'].apply(getpolarity) "
   ]
  },
  {
   "cell_type": "code",
   "execution_count": null,
   "id": "ac7d7773-bb80-433a-91c6-f1e530c887d3",
   "metadata": {},
   "outputs": [],
   "source": [
    "# trump_tweets['analysis'] = trump_tweets['polarity'].apply(getAnalysis) \n",
    "# trump_tweets.head() "
   ]
  },
  {
   "cell_type": "code",
   "execution_count": null,
   "id": "56916c50-668f-4afc-af16-234fcd4fa5c6",
   "metadata": {},
   "outputs": [],
   "source": [
    "# # how much data is positive/negetive/neutral \n",
    "# plt.style.use('dark_background') # Adding black theme \n",
    "\n",
    "# # Define colors for each bar \n",
    "# colors = ['orange', 'blue', 'red'] \n",
    "\n",
    "# plt.figure(figsize=(7, 5)) \n",
    "# (trump_tweets.analysis.value_counts(normalize=True) * 100).plot.bar(color=colors) \n",
    "# plt.ylabel(\"%age of tweets\") \n",
    "# plt.title(\"Distribution of Sentiments towards Trump\") \n",
    "# plt.show() "
   ]
  },
  {
   "cell_type": "code",
   "execution_count": null,
   "id": "654601cb-c8ce-4786-96ee-7700c18e93ca",
   "metadata": {},
   "outputs": [],
   "source": [
    "# def word_cloud(wd_list): \n",
    "# \tstopwords = set(STOPWORDS) \n",
    "# \tall_words = ' '.join() \n",
    "# \twordcloud = WordCloud(background_color='black', \n",
    "# \t\t\t\t\t\tstopwords=stopwords, \n",
    "# \t\t\t\t\t\twidth=1600, height=800, max_words=100, max_font_size=200, \n",
    "# \t\t\t\t\t\tcolormap=\"viridis\").generate(all_words) \n",
    "# \tplt.figure(figsize=(12, 10)) \n",
    "# \tplt.axis('off') \n",
    "# \tplt.imshow(wordcloud) \n",
    "\n",
    "# word_cloud(trump_tweets['cleantext'][:5000]) "
   ]
  },
  {
   "cell_type": "markdown",
   "id": "c249f8ac-3724-4b2c-91bc-a0cb5ab14e30",
   "metadata": {},
   "source": [
    "<!-- ## Joe Biden's Sentiment Analysis -->"
   ]
  },
  {
   "cell_type": "code",
   "execution_count": null,
   "id": "4d4c940d-f674-460b-b951-d19ac43d2847",
   "metadata": {},
   "outputs": [],
   "source": [
    "# biden_tweets = data[data['candidate'] == 'biden'] \n",
    "# biden_tweets = biden_tweets.loc[biden_tweets.country == 'US'] \n",
    "# biden_tweets = biden_tweets[['tweet']] \n",
    "# biden_tweets"
   ]
  },
  {
   "cell_type": "code",
   "execution_count": null,
   "id": "895de7c8-f919-4371-a89a-c66f3f81cdde",
   "metadata": {},
   "outputs": [],
   "source": [
    "# biden_tweets['cleantext']=biden_tweets['tweet'].apply(clean) \n",
    "# biden_tweets.head()"
   ]
  },
  {
   "cell_type": "code",
   "execution_count": null,
   "id": "59a22084-342c-4a89-beec-5495cecc63a7",
   "metadata": {},
   "outputs": [],
   "source": [
    "# biden_tweets['subjectivity'] = biden_tweets['cleantext'].apply(getsubjectivity) \n",
    "# biden_tweets['polarity'] = biden_tweets['cleantext'].apply(getpolarity) \n",
    "# biden_tweets['analysis'] = biden_tweets['polarity'].apply(getAnalysis) \n",
    "# biden_tweets.head() "
   ]
  },
  {
   "cell_type": "code",
   "execution_count": null,
   "id": "1b9d3695-1e99-4a2e-bb4b-c0210271330e",
   "metadata": {},
   "outputs": [],
   "source": [
    "# # how much data is positive/negetive/neutral \n",
    "# plt.style.use('dark_background') \n",
    "\n",
    "# # Define colors for each bar \n",
    "# colors = ['orange', 'green', 'red'] \n",
    "\n",
    "# plt.figure(figsize=(7, 5)) \n",
    "# (biden_tweets.analysis.value_counts(normalize=True) * 100).plot.bar(color=colors) \n",
    "# plt.ylabel(\"%age of tweets\") \n",
    "# plt.title(\"Distribution of Sentiments towards Biden\") \n",
    "# plt.show() "
   ]
  },
  {
   "cell_type": "code",
   "execution_count": null,
   "id": "e3ccf265-c55c-472d-9b88-81b78c8f2429",
   "metadata": {},
   "outputs": [],
   "source": [
    "# word_cloud(biden_tweets['cleantext'][:5000])"
   ]
  },
  {
   "cell_type": "markdown",
   "id": "4811b9e7-e3bd-4e59-a3a5-d23f47bfdf8c",
   "metadata": {},
   "source": [
    "<!-- ## Trump Prediction -->"
   ]
  },
  {
   "cell_type": "code",
   "execution_count": null,
   "id": "90d77a4c-a345-4e93-839d-e27ed7103719",
   "metadata": {},
   "outputs": [],
   "source": [
    "# Trump_Tweets.analysis.value_counts(normalize=True)*100"
   ]
  },
  {
   "cell_type": "markdown",
   "id": "9f807087-2c41-49aa-9b18-143c4c33943d",
   "metadata": {},
   "source": [
    "<!-- ## Biden Prediction -->"
   ]
  },
  {
   "cell_type": "code",
   "execution_count": null,
   "id": "96f7657b-e2ee-4c3f-8f17-d7d6ced9d53d",
   "metadata": {},
   "outputs": [],
   "source": [
    "# Biden_Tweets.analysis.value_counts(normalize=True)*100"
   ]
  },
  {
   "cell_type": "markdown",
   "id": "77230e90-abb2-47a1-916e-4ab2b7de5a89",
   "metadata": {},
   "source": [
    "<!-- ### Conclusion:\r\n",
    "let’s analyze what each sentiment’s percentage represents and its implications on the result.\r\n",
    "\r\n",
    "Positive Sentiment: Positive tweets about Biden outnumber positive tweets about Trump: Biden’s tweets have a higher percentage of positive feelings (36.43%) than Trump’s ( 33.99%). This shows that Twitter users are responding more favorably to Biden.\r\n",
    "\r\n",
    "Neutral Sentiment: Trump receives more neutral sentiments: In contrast, Trump receives slightly more neutral sentiments (43.22%) in comparison to Biden (46.83%) in his tweets. This may indicate that Trump’s tweets are more likely to be seen as neutral or impersonal, leading to a higher neutral sentiment rate.\r\n",
    "\r\n",
    "Negative Sentiment: Trump gets more unfavorable reactions: While both candidates have received criticism, Trump’s tweets have a greater percentage of unfavorable reactions (22.78%) than Biden’s (16.79%). This implies that there may have been more opposition to Trump’s tweets on Twitter.\r\n",
    "\r\n",
    "With respect to the U.S. voters, it was highlighted a lot of times that Trump was the most talked about and tweeted about among people however, Trump has received more negative comments as compared to Joe Biden. As a result, Joe Biden won the 2020 elections which is a proven fact. However, overall, the competition was close as shown by  -->the data."
   ]
  }
 ],
 "metadata": {
  "kernelspec": {
   "display_name": "Python 3 (ipykernel)",
   "language": "python",
   "name": "python3"
  },
  "language_info": {
   "codemirror_mode": {
    "name": "ipython",
    "version": 3
   },
   "file_extension": ".py",
   "mimetype": "text/x-python",
   "name": "python",
   "nbconvert_exporter": "python",
   "pygments_lexer": "ipython3",
   "version": "3.11.7"
  }
 },
 "nbformat": 4,
 "nbformat_minor": 5
}
