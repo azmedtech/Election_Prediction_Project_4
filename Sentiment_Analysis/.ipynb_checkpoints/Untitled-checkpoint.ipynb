{
 "cells": [
  {
   "cell_type": "markdown",
   "id": "ebffa9f5-3371-4d9b-b1d1-2dce6169527a",
   "metadata": {},
   "source": [
    "Code to generate WordCloud. Run in Google CoLab due to issues with WordCloud library locally."
   ]
  },
  {
   "cell_type": "code",
   "execution_count": null,
   "id": "bb862d8d-d796-4aac-9c58-670a6c2fd519",
   "metadata": {},
   "outputs": [],
   "source": [
    "# Run for use in CoLab\n",
    "!pip install matplotlib"
   ]
  },
  {
   "cell_type": "code",
   "execution_count": null,
   "id": "84a949f0-4254-4f28-af14-e3383b342ea0",
   "metadata": {},
   "outputs": [],
   "source": [
    "# Run for use in CoLab\n",
    "!pip install wordcloud"
   ]
  },
  {
   "cell_type": "code",
   "execution_count": null,
   "id": "07125768-c63e-4ce2-869d-1531205f0fb4",
   "metadata": {},
   "outputs": [],
   "source": [
    "# Import dependencies\n",
    "import os\n",
    "import csv\n",
    "import matplotlib.pyplot as plt\n",
    "from wordcloud import WordCloud"
   ]
  },
  {
   "cell_type": "code",
   "execution_count": null,
   "id": "9e68a295-f1ea-425e-be26-561449be32d7",
   "metadata": {},
   "outputs": [],
   "source": [
    "# Read in final combined post data file into dataframe\n",
    "wordcloud_df = pd.read_csv(\"CSV_Outputs/final_ind_post_data_df.csv\",)"
   ]
  },
  {
   "cell_type": "code",
   "execution_count": null,
   "id": "46b85142-9534-4c0b-b52d-ccc9f8661800",
   "metadata": {},
   "outputs": [],
   "source": [
    "# Begin building word cloud visual\n",
    "plt.style.use('seaborn-whitegrid')\n",
    "\n",
    "mpl.rcParams['figure.figsize'] = [20.0, 10.0]"
   ]
  },
  {
   "cell_type": "code",
   "execution_count": null,
   "id": "c6e18c0a-075c-4b45-9029-3007e5130380",
   "metadata": {},
   "outputs": [],
   "source": [
    "def wordcloud(text, title=\"\"):\n",
    "    df_cloud = WordCloud(width=500, colormap='RdYlBu').generate(text)\n",
    "    plt.imshow(df_cloud)\n",
    "    plt.axis(\"off\")\n",
    "    fontdict = {\"fontsize\": 48, \"fontweight\" : \"bold\"}\n",
    "    plt.title(title, fontdict=fontdict)\n",
    "    plt.show()"
   ]
  }
 ],
 "metadata": {
  "kernelspec": {
   "display_name": "Python 3 (ipykernel)",
   "language": "python",
   "name": "python3"
  },
  "language_info": {
   "codemirror_mode": {
    "name": "ipython",
    "version": 3
   },
   "file_extension": ".py",
   "mimetype": "text/x-python",
   "name": "python",
   "nbconvert_exporter": "python",
   "pygments_lexer": "ipython3",
   "version": "3.11.7"
  }
 },
 "nbformat": 4,
 "nbformat_minor": 5
}
